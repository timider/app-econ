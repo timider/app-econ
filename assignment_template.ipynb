{
 "cells": [
  {
   "cell_type": "markdown",
   "metadata": {},
   "source": [
    "|Name|SNR|ANR|\n",
    "|----|---|----|\n",
    "|Jan Darecki|2084225|u584473|"
   ]
  },
  {
   "cell_type": "markdown",
   "metadata": {},
   "source": [
    "Before you turn this problem in, make sure everything runs as expected. First, **restart the kernel** (in the menubar, select Kernel$\\rightarrow$Restart) and then **run all cells** (in the menubar, select Cell$\\rightarrow$Run All).\n",
    "\n",
    "Make sure you fill in any place that says `YOUR CODE HERE` or \"YOUR ANSWER HERE\", as well as your name and collaborators below:"
   ]
  },
  {
   "cell_type": "code",
   "execution_count": 1,
   "metadata": {},
   "outputs": [],
   "source": [
    "NAME = \"JAN DARECKI\""
   ]
  },
  {
   "cell_type": "markdown",
   "metadata": {},
   "source": [
    "---"
   ]
  },
  {
   "cell_type": "markdown",
   "metadata": {},
   "source": [
    "# Python assignment"
   ]
  },
  {
   "cell_type": "markdown",
   "metadata": {},
   "source": [
    "# Papers (0.5 points)"
   ]
  },
  {
   "cell_type": "markdown",
   "metadata": {
    "deletable": false,
    "nbgrader": {
     "checksum": "84c7d0d85d8fb5e0073f3053f9bedf5a",
     "grade": true,
     "grade_id": "cell-8cbf4938fbebbb6e",
     "locked": false,
     "points": 0.5,
     "schema_version": 1,
     "solution": true
    }
   },
   "source": [
    "The starting point of this assignment is a 1989 paper by Bernanke and Gertler entitled \"Agency Costs, Net Worth, and Business Fluctuations\", in which the authors use the Costly State Verification (CSV) framework in a dynamic macro model, to study the implications of fluctuations in net worth on business cycles.  \n",
    "\n",
    "The CSV framework was most notably developed by Stephen D. Williamson in the 1986 paper entitled \"Costly monitoring, financial intermediation, and equilibrium credit rationing\", which itself builds upon the framework developed by John M. Townsend in the 1979 paper \"Optimal contracts and competitive markets with costly state verification\". \n",
    "\n",
    "The paper by Williamson (1986) is a theoretical analysis of how financial intermediaries allocate credit in the presence of asymmetric information. The author develops a framework in which financial intermediaries engage in costly monitoring of borrowers. However, because this monitoring is costly, intermediaries may choose to ration credit in order to avoid lending to very risky borrowers, even if those borrowers are willing to pay higher interest rates to compensate for the increased risk. \n",
    "\n",
    "Bernanke and Gertler (1989) use this framework and extend upon it to draw conclusiions about the business cycle implications of this financal mechanism.\n",
    "\n",
    "The model suggests that changes in the net worth of firms will influence their investment decisions and, in turn, the business cycle. Specifically, when firms' net worth is high, they may be more likely to invest in new projects, leading to an expansion in economic activity. Conversely, when firms' net worth is low, they may be less likely to invest, leading to a contraction in economic activity. This, along with the intermediaries' higher reluctance to lend to lower net-worth firms, is what is know as the \"financial accelarator\".\n",
    "\n",
    "With the Bernanke and Gertler (1989) paper not being a clear extensions of the Williamson (1986) paper (there are many differences between the two studies), this assignment will borrow from both, in order to provide a CSV framework that allows for the most concise and interesting analysis.\n"
   ]
  },
  {
   "cell_type": "markdown",
   "metadata": {},
   "source": [
    "# Research question (0.5 points)"
   ]
  },
  {
   "cell_type": "markdown",
   "metadata": {
    "deletable": false,
    "nbgrader": {
     "checksum": "b350c3082e112a5b2f1f6db0481fa5bd",
     "grade": true,
     "grade_id": "cell-7a61a5e9e6991ff4",
     "locked": false,
     "points": 0.5,
     "schema_version": 1,
     "solution": true
    }
   },
   "source": [
    "How much does the share of renewable energy in firms' portfolio matter for the economy, in the case of an energy crisis? And when does abating non-renewable energy sources make sense from a social planner perspective?"
   ]
  },
  {
   "cell_type": "markdown",
   "metadata": {},
   "source": [
    "# Motivation (0.5 points)"
   ]
  },
  {
   "cell_type": "markdown",
   "metadata": {
    "deletable": false,
    "nbgrader": {
     "checksum": "ab93f4d26eb3e0bcf88927ee71df6b63",
     "grade": true,
     "grade_id": "cell-3d71712c92143820",
     "locked": false,
     "points": 0.5,
     "schema_version": 1,
     "solution": true
    }
   },
   "source": [
    "An energy crisis, caused by price volatility or supply disruptions, can have severe consequences for the economy. It has, most recently, driven an increase in inflation in economies most reliant on Russian gas. In the 1970s, it caused many years of stagflation.\n",
    "\n",
    "Today, renewable energy makes up an ever-larger part of firms' energy portfolios. This is driven by stakeholder expecatations, as well as country regulations. Apart from the obvious benefit for climate change, this shift may also promotes economic stability.\n",
    "\n",
    "With the unit cost of solar panels and wind turbines at constantly new record-lows, the results of this analysis could provide an additional incentive for governments' to speed up the transition to a green economy and shield the economy from energy crises.\n",
    "\n"
   ]
  },
  {
   "cell_type": "markdown",
   "metadata": {},
   "source": [
    "# Preview of the answers (0.5 points)"
   ]
  },
  {
   "cell_type": "markdown",
   "metadata": {
    "deletable": false,
    "nbgrader": {
     "checksum": "938eb25dc709a2252d7013dc1cd8176a",
     "grade": true,
     "grade_id": "cell-1b3df4385bba508d",
     "locked": false,
     "points": 0.5,
     "schema_version": 1,
     "solution": true
    }
   },
   "source": [
    "In the case of an energy crisis, the share of renewable/non-renewable energy matters most for entreprenurs that require low interest payments (and a high net worth) to kickstart their project. Due to the problems of these entrepreneurs, a moderately strong energy shock, brings down output by about 1.5%.\n",
    "\n",
    "Most entrepreneurs are able to run their projects, and produce output anyway, however their profits are reduced by the higher interest payments they face.\n",
    "\n",
    "The optimality of abatement activity is entirely dependent on the state of the abatement technology, which justifies the social planner's abatement spending only after passing an efficiency threshold, that guarantees full abatement with around 5% aggregate output. For any value of abatement efficiency, the optimal value of abatement spending does not surpass 2.5% of the economy's output."
   ]
  },
  {
   "cell_type": "markdown",
   "metadata": {},
   "source": [
    "# Main assumptions (0.5 points)"
   ]
  },
  {
   "cell_type": "markdown",
   "metadata": {
    "deletable": false,
    "nbgrader": {
     "checksum": "2e95c3f2ef005a63968a0ade420f5af7",
     "grade": true,
     "grade_id": "cell-d84f19967b2baa1d",
     "locked": false,
     "points": 0.5,
     "schema_version": 1,
     "solution": true
    }
   },
   "source": [
    "To answer the research question, I will assume that it is solely the firms' energy mix (more precisely, their share of renewable energy) that determines the impact of the aggregate energy shock on their net worth.\n",
    "\n",
    "Moreover, I assume that entrepreneurs (firms) are correct in prediciting their project outputs. Due to the mechanics of this model, entrepreneurs do not seek financing if their projects are not profitable. As a result, there are no defaults. The lenders do not know this, or the entrepreneurs' output, so they take the expected output value of $\\gamma=1$.\n",
    "\n",
    "The lenders can, however, perfectly observe the entrepreneurs' net worths.\n",
    "\n",
    "Lastly, I assume that lenders have no liquidity constraints when they want to lend money to the entrepreneurs, and that it is only the entrepreneurs who are impacetd by the energy shock."
   ]
  },
  {
   "cell_type": "markdown",
   "metadata": {},
   "source": [
    "# Model in the paper (1.0 points)"
   ]
  },
  {
   "cell_type": "markdown",
   "metadata": {},
   "source": [
    "The model presented in this assignment is derived primarily from Williamson (1986), which itself borrowed heavily from Townsend (1979). Parts from Bernanke and Gertler (1989) also feature.  \n",
    "\n",
    "### Set-up\n",
    "\n",
    "The economy consists of 10 000 agents, of which $\\alpha$ are entrepreneurs and $1-\\alpha$ are lenders.\n",
    "\n",
    "Each agent is endowed with $W_i < 1$ units of capital, which represents the net worth.\n",
    "\n",
    "Each project requires one unit of capital, which means $1-W$ is needed from external finance for the project to commence. Expeceted output of a project equals $\\gamma$. Actual project returns have a uniform distribution $(0, 2\\gamma)$. Each project has only one single investor."
   ]
  },
  {
   "cell_type": "markdown",
   "metadata": {
    "nbgrader": {
     "checksum": "2e95c3f2ef005a63968a0ade420f5af7",
     "grade": true,
     "grade_id": "cell-d84f19967b2baa1d",
     "locked": false,
     "points": 0.5,
     "schema_version": 1,
     "solution": true
    }
   },
   "source": [
    "### Financing decision\n",
    "\n",
    "The entrepreneur is willing to undertake the project and seek financing as soon as\n",
    "\n",
    "$\\gamma-(1+r)(1-W)-A>(1+r)W$ \n",
    "\n",
    "where $\\gamma$ is the expected project output, \n",
    "\n",
    "$r$ is the rate at which the investor can invest his capital,\n",
    "\n",
    "$1+r$ represents the opportunity cost of capital,\n",
    "\n",
    "$W$ is the entrepreneur's equity, and \n",
    "\n",
    "$A$ is the lenders' expected verification costs.\n"
   ]
  },
  {
   "cell_type": "markdown",
   "metadata": {},
   "source": [
    "### Verification costs $A$, the optimal debt contract $D^*$ and investor returns $R(D)$\n",
    "\n",
    "Verification costs arise from the existence of assymetrical information between borrower and lender: it costs the lender $c$ to observe an entrepreneur's project output. Therefore, the lender establishes an optimal contract $D^*$ that minimizes the fraction of the time that she has to verify output, while providing the required rate of return.\n",
    "\n",
    "If project output exceeds $D^*$, which can be thought of as a standard debt contract, the borrower repays $D^*$ and the lender does not verify. However, if output is less than $D^*$, the lender verifies and extracts the entire output from the entrepreneur. This represents the deault state. The lender takes this into account when estimating $A$ and $D^*$.\n",
    "\n",
    "The equilibrium value of $D^*$ is one that maximizes the lender's expected return $R(D)$. To find the equilibrium value, we assume that $D \\le 2\\gamma$ and that expected payments to the lender minus the expected monitoring cost must equal the opportunity cost of lender's capital $(1+r)(1-W)$.\n",
    "\n",
    "The investor's return as a function of the optimal debt contract can be stated as follows:\n",
    "\n",
    "$R(D)=\\frac{2 \\gamma-D}{2 \\gamma} D+\\frac{D}{2 \\gamma}\\left(\\frac{D}{2}-c\\right)$\n",
    "\n",
    "When $R'(D)=1-\\frac{c}{2 \\gamma}-\\frac{D}{2 \\gamma}=0$, the solution for the maxmimum return $R_{MAX}$ equals $D=2\\gamma-c$.\n",
    "\n",
    "However, in the case where lenders are endowed with $W<1$ units of capital, and entrepreneurs need $1-W$ units of capital to borrow, we restrict our attention to cases in which $D\\in(0,1)$. \n",
    "\n",
    "Taking investors' required net revenues as $(1-W)(1+r)$, the equilibrium debt contract $D^*$ is derived as\n",
    "\n",
    "$D^*=2 \\gamma-c-\\sqrt{(2 \\gamma-c)^2-4 \\gamma(1+r)(1-W)}$\n",
    "\n",
    "And expected verification costs $A$ equal \n",
    "\n",
    "$A=\\frac{D^*}{2 \\gamma} c =\\frac{c}{2 \\gamma}\\left(2 \\gamma-c-\\sqrt{(2 \\gamma-c)^2-4 \\gamma(1+r)(1-W)}\\right)$\n",
    "\n",
    "Thus, we obtain a link between the optimal debt contract, expected verification costs and entrepreneurs' net worth, which we will expose to shocks in the extension. "
   ]
  },
  {
   "cell_type": "markdown",
   "metadata": {},
   "source": [
    "### Extension\n",
    "\n",
    "For entrepreneurs, we introduce an exogenous energy shock, heterogenous among agents, based on the share of non-renewable energy in their energy mix.\n",
    "\n",
    "The post-shock net worth of the entrepreneur is given by:\n",
    "\n",
    "$W_{post}=W-\\mu\\delta W$\n",
    "\n",
    "where $\\delta$ is homogenous for all agents and indicates the severity of the energy shock, \n",
    "\n",
    "$\\mu$ is heterogenous among agents and indicates the share of **non-renewable** energy in their energy mix, and\n",
    "\n",
    "$0<\\delta<1$, \n",
    "\n",
    "$0\\le\\mu\\le1$.\n",
    "\n",
    "Once the energy shock is introduced, the social planner has an opportunity to abate the non-renewable energy sources, which reduces the share of non-renewable energy to $\\mu-a$ at a cost of $x$ units of output.\n",
    "\n",
    "The post-shock net worth, with abatement possibility, is given by\n",
    "\n",
    "$W{post}=W-\\delta (\\mu-a) W$\n",
    "\n",
    "and $a$ is determined by the function\n",
    "\n",
    "$a(x)=\\beta x$\n",
    "\n",
    "where $x$ relates to the amount of output the social planner uses to abate, and\n",
    "\n",
    "$\\beta$ indicates the abatement technology, or the efficieny of funds in abating non-renewable energy, and\n",
    "\n",
    "$0<\\beta<1$."
   ]
  },
  {
   "cell_type": "markdown",
   "metadata": {},
   "source": [
    "# Python code (6.0 points)"
   ]
  },
  {
   "cell_type": "code",
   "execution_count": 2,
   "metadata": {},
   "outputs": [],
   "source": [
    "import pandas as pd\n",
    "import numpy as np\n",
    "import pymc3 as pm\n",
    "import matplotlib.pyplot as plt\n",
    "import seaborn as sns\n",
    "from scipy import stats, optimize\n",
    "import random\n",
    "import math\n",
    "from statistics import mean\n",
    "import matplotlib.colors as colors\n",
    "from mpl_toolkits import mplot3d\n",
    "np.set_printoptions(precision=6, suppress=True)"
   ]
  },
  {
   "cell_type": "markdown",
   "metadata": {
    "deletable": false,
    "nbgrader": {
     "checksum": "3dd4c02198f7b81f943268cb3d0a12b2",
     "grade": true,
     "grade_id": "cell-a2231ee7e6d4e686",
     "locked": false,
     "points": 7,
     "schema_version": 1,
     "solution": true
    }
   },
   "source": [
    "## Model in the paper\n",
    "\n",
    "### Set-up\n",
    "\n",
    "The economy consists of 10 000 agents, of which $\\alpha$ are entrepreneurs and $1-\\alpha$ are lenders."
   ]
  },
  {
   "cell_type": "code",
   "execution_count": 3,
   "metadata": {},
   "outputs": [],
   "source": [
    "N = 10000\n",
    "alpha = 0.4\n",
    "n_e = alpha*N"
   ]
  },
  {
   "cell_type": "markdown",
   "metadata": {},
   "source": [
    "Each agent is endowed with $W_i < 1$ units of capital, which represents their net worth."
   ]
  },
  {
   "cell_type": "code",
   "execution_count": 4,
   "metadata": {},
   "outputs": [
    {
     "data": {
      "text/plain": [
       "array([0.698331, 0.633799, 0.67478 , 0.90831 , 0.714525, 0.733757,\n",
       "       0.625376, 0.769476, 0.605928, 0.615637, 0.780866, 0.790197,\n",
       "       0.661509, 0.858229, 0.818738, 0.840211, 0.709384, 0.991543,\n",
       "       0.513146, 0.547028, 0.541538, 0.701618, 0.670584, 0.720218,\n",
       "       0.657376, 0.666739, 0.878646, 0.618383, 0.605371, 0.486639,\n",
       "       0.496994, 0.727483, 0.544705, 0.656746, 0.752428, 0.774495,\n",
       "       0.674913, 0.763992, 0.778821, 0.751401, 0.747824, 0.649746,\n",
       "       0.800914, 0.6266  , 0.681457, 0.420096, 0.625945, 0.637274,\n",
       "       0.743026, 0.723989])"
      ]
     },
     "execution_count": 4,
     "metadata": {},
     "output_type": "execute_result"
    }
   ],
   "source": [
    "n_e = int(n_e)\n",
    "W = np.array(pm.Normal.dist(0.7,0.1).random(size=N))\n",
    "W[W>1]=0.999999\n",
    "W_e = W[:n_e]\n",
    "W_e[:50]"
   ]
  },
  {
   "cell_type": "markdown",
   "metadata": {},
   "source": [
    "Each project requires 1 unit of capital, which means $1-W$ is needed from external finance for the project to commence. Expeceted output of a project equals $\\gamma=1$. Actual project returns have a uniform of output $(0, 2)$. Each project has only one single investor."
   ]
  },
  {
   "cell_type": "code",
   "execution_count": 5,
   "metadata": {},
   "outputs": [
    {
     "data": {
      "text/plain": [
       "array([1.984527, 0.290142, 1.075985, 0.532015, 1.193266, 0.809857,\n",
       "       0.638719, 1.498932, 0.372934, 0.903095, 1.399055, 0.806319,\n",
       "       1.984514, 1.876505, 1.66853 , 1.953378, 0.40257 , 0.639585,\n",
       "       0.254931, 0.163916, 1.655554, 0.294919, 1.545883, 0.870272,\n",
       "       0.208545, 0.343208, 1.74325 , 1.434184, 1.856336, 0.985506,\n",
       "       1.187738, 1.423332, 1.386884, 0.967583, 0.056901, 0.608352,\n",
       "       1.797029, 0.438073, 1.748822, 1.340929, 0.399182, 1.89812 ,\n",
       "       0.460868, 0.26906 , 0.73882 , 1.65241 , 1.126588, 1.138465,\n",
       "       0.8465  , 0.840366])"
      ]
     },
     "execution_count": 5,
     "metadata": {},
     "output_type": "execute_result"
    }
   ],
   "source": [
    "r_e = np.array(pm.Uniform.dist(0,2).random(size=n_e))\n",
    "r_e[:50]"
   ]
  },
  {
   "cell_type": "markdown",
   "metadata": {},
   "source": [
    "### Verification costs $A$, the optimal debt contract $D^*$ and investor returns $R(D)$"
   ]
  },
  {
   "cell_type": "code",
   "execution_count": 6,
   "metadata": {},
   "outputs": [],
   "source": [
    "def R(D):\n",
    "    return ((2-D)/2)*D+(D/2)*((D/2)-c)"
   ]
  },
  {
   "cell_type": "markdown",
   "metadata": {},
   "source": [
    "We assume the unit cost of verification is 0.1 and the opportunity cost of capital is 0.02."
   ]
  },
  {
   "cell_type": "code",
   "execution_count": 7,
   "metadata": {},
   "outputs": [],
   "source": [
    "r=0.02\n",
    "c=0.1"
   ]
  },
  {
   "cell_type": "code",
   "execution_count": 8,
   "metadata": {},
   "outputs": [
    {
     "data": {
      "image/png": "[encoded data removed]",
      "text/plain": [
       "<Figure size 432x288 with 1 Axes>"
      ]
     },
     "metadata": {
      "needs_background": "light"
     },
     "output_type": "display_data"
    }
   ],
   "source": [
    "D = np.linspace(0, 2.2, 100)\n",
    "plt.plot(D, R(D), color='blue')\n",
    "plt.xlabel(\"Optimal debt contract $D^*$\")\n",
    "plt.axvline(x=2-c, color='green')\n",
    "plt.axvline(x=1, color='red')\n",
    "plt.ylabel(\"Investor return\")\n",
    "plt.show()"
   ]
  },
  {
   "cell_type": "markdown",
   "metadata": {},
   "source": [
    "The working assumption in this model is that entrepreneurs' net worth is perfectly observable to the lenders. Entrepreneurs approach the lenders to learn the expected payments (which will govern their decision whether to seek financing, or not) and, to do so, they reveal their net worth to the lender, which has to determine those very payments by learning the entrepreneurs' net worth. The information assymetry in this model relates strictly to the entrepreneurs' project output.\n",
    "\n",
    "The investors take the expected value of entrepreneur project returns $\\gamma=1$."
   ]
  },
  {
   "cell_type": "code",
   "execution_count": 9,
   "metadata": {},
   "outputs": [],
   "source": [
    "def A(W_e,r_e=1):\n",
    "    return c/2*r_e*(2*r_e-c-((2*r_e-c)**2-4*r_e*(1+r)*(1-W_e))**0.5)"
   ]
  },
  {
   "cell_type": "code",
   "execution_count": 10,
   "metadata": {},
   "outputs": [
    {
     "data": {
      "image/png": "[encoded data removed]",
      "text/plain": [
       "<Figure size 432x288 with 1 Axes>"
      ]
     },
     "metadata": {
      "needs_background": "light"
     },
     "output_type": "display_data"
    }
   ],
   "source": [
    "plt.scatter(W_e, A(W_e, r_e=1), color='blue')\n",
    "plt.xlabel(\"Entrepreneur net worth\")\n",
    "plt.axvline(x=1, color='red')\n",
    "plt.ylabel(\"Expected verification costs\")\n",
    "plt.show()"
   ]
  },
  {
   "cell_type": "code",
   "execution_count": 11,
   "metadata": {},
   "outputs": [],
   "source": [
    "def D(W_e, r_e=1):\n",
    "    return 2*r_e-c-((2*r_e-c)**2-4*r_e*(1+r)*(1-W_e))**0.5"
   ]
  },
  {
   "cell_type": "code",
   "execution_count": 12,
   "metadata": {},
   "outputs": [
    {
     "data": {
      "image/png": "[encoded data removed]",
      "text/plain": [
       "<Figure size 432x288 with 1 Axes>"
      ]
     },
     "metadata": {
      "needs_background": "light"
     },
     "output_type": "display_data"
    }
   ],
   "source": [
    "plt.scatter(W_e, D(W_e, r_e=1), color='orange')\n",
    "plt.xlabel(\"Entrepreneur net worth\")\n",
    "plt.axvline(x=1, color='red')\n",
    "plt.ylabel(\"Optimal debt contract\")\n",
    "plt.show()"
   ]
  },
  {
   "cell_type": "markdown",
   "metadata": {},
   "source": [
    "Expected verification costs $A$ and the optimal debt contract $D^*$ go down in a similar, almost linear way, along with the rise in entrepreneur net worth.\n",
    "\n",
    "The reason for this is twofold. Firstly, the debt contract will be lower as the higher-equity entrepreneur is borrowing a smaller amount $1-W$. Second, because he is borrowing a smaller amount he is less likely to default - which results in lower expected verification costs.\n",
    "\n",
    "Next, we will look at how the amount of interest payments change with entrepreneur net worth. \n",
    "Interest payments are simply defined as\n",
    "\n",
    "$i=D^*-(1-W)=2 \\gamma-c-\\sqrt{(2 \\gamma-c)^2-4 \\gamma(1+r)(1-W)}-(1-W)$"
   ]
  },
  {
   "cell_type": "code",
   "execution_count": 13,
   "metadata": {},
   "outputs": [],
   "source": [
    "def i(W_e, r_e=1):\n",
    "    return (2*r_e-c-((2*r_e-c)**2-4*r_e*(1+r)*(1-W_e))**0.5)-(1-W_e)"
   ]
  },
  {
   "cell_type": "code",
   "execution_count": 14,
   "metadata": {},
   "outputs": [
    {
     "data": {
      "image/png": "[encoded data removed]",
      "text/plain": [
       "<Figure size 432x288 with 1 Axes>"
      ]
     },
     "metadata": {
      "needs_background": "light"
     },
     "output_type": "display_data"
    }
   ],
   "source": [
    "plt.scatter(W_e, i(W_e,r_e=1), color='purple')\n",
    "plt.xlabel(\"Entrepreneur net worth\")\n",
    "plt.ylabel(\"Interest payment\")\n",
    "plt.axvline(x=1, color='red')\n",
    "plt.show()"
   ]
  },
  {
   "cell_type": "markdown",
   "metadata": {},
   "source": [
    "Here, interest payments go down asymptotically with the borrower's net worth. Again, there are two factors driving this result.\n",
    "\n",
    "First, as was the case before, higher net worth means that less capital is borrowed by the entrepreneur. This drives interest payments down, because the incidence of default, and the expected verification costs, are lower. \n",
    "\n",
    "Second, the more the entrepreneur borrows from the lender (the lower his net worth), the higher is the opportunity cost of the lender, and the more he will demand on top of the capital he has already supplied."
   ]
  },
  {
   "cell_type": "markdown",
   "metadata": {},
   "source": [
    "### Financing decision\n",
    "\n",
    "Using the equations\n",
    "\n",
    "$\\gamma-(1+r)(1-W)-A>(1+r)W$ \n",
    "\n",
    "$A=\\frac{D^*}{2 \\gamma} c =\\frac{c}{2 \\gamma}\\left(2 \\gamma-c-\\sqrt{(2 \\gamma-c)^2-4 \\gamma(1+r)(1-W)}\\right)$\n",
    "\n",
    "We can create the financing decision function"
   ]
  },
  {
   "cell_type": "markdown",
   "metadata": {},
   "source": [
    "Here, it is important to note the change in $\\gamma$, which is no longer the expected, deterministic value of 1. For the financing decision, we assume that entrepreneurs know their project return **before** starting the project itself. It is on the basis of this value that they base their financing decision. As shown below, it is in fact the most important value in determining this decision."
   ]
  },
  {
   "cell_type": "code",
   "execution_count": 15,
   "metadata": {},
   "outputs": [],
   "source": [
    "def seek_bin(W_e, r_e):\n",
    "    result = np.where(\n",
    "        r_e-((1-W_e)*(1+r))-(c/2*r_e)*(2*r_e-c-((2*r_e-c)**2-4*r_e*(1+r)*(1-W_e))**0.5)>(1+r)*W_e,\n",
    "        1, \n",
    "        0)\n",
    "    return result"
   ]
  },
  {
   "cell_type": "markdown",
   "metadata": {},
   "source": [
    "Here, we create a plot in which entrepreneurs will be colored according to whether they seek financing or not; dependent on both their net worth and their project returns."
   ]
  },
  {
   "cell_type": "code",
   "execution_count": 16,
   "metadata": {},
   "outputs": [
    {
     "name": "stderr",
     "output_type": "stream",
     "text": [
      "/tmp/ipykernel_207/2052016324.py:3: RuntimeWarning: invalid value encountered in sqrt\n",
      "  r_e-((1-W_e)*(1+r))-(c/2*r_e)*(2*r_e-c-((2*r_e-c)**2-4*r_e*(1+r)*(1-W_e))**0.5)>(1+r)*W_e,\n"
     ]
    },
    {
     "data": {
      "image/png": "[encoded data removed]",
      "text/plain": [
       "<Figure size 432x288 with 1 Axes>"
      ]
     },
     "metadata": {
      "needs_background": "light"
     },
     "output_type": "display_data"
    }
   ],
   "source": [
    "scatter = plt.scatter(W_e,r_e, c=seek_bin(W_e=W_e,r_e=r_e)) \n",
    "names = ['No', 'Yes']\n",
    "plt.legend(handles=scatter.legend_elements()[0], \n",
    "           labels=names,\n",
    "           title=\"Seeking financing\")\n",
    "plt.xlabel(\"Entrepreneur net worth\")\n",
    "plt.ylabel(\"Project output\")\n",
    "plt.show()"
   ]
  },
  {
   "cell_type": "markdown",
   "metadata": {},
   "source": [
    "As we can see, the financing decision is most closely correlated with the project's output.\n",
    "\n",
    "Creating a function separating entrepreneurs according to their project return (above and below $\\gamma=1$)."
   ]
  },
  {
   "cell_type": "code",
   "execution_count": 17,
   "metadata": {},
   "outputs": [],
   "source": [
    "def bin_r_e(r_e):\n",
    "    result = np.where(\n",
    "        r_e>1,\n",
    "        1, \n",
    "        0)\n",
    "    return result"
   ]
  },
  {
   "cell_type": "markdown",
   "metadata": {},
   "source": [
    "Again, we can see how closely the financing decision depends on project output. The dots at $y=1$ - entrepreneurs seeking financing - are all yellow. Entrepreneurs need to have a project return at least as big as $\\gamma=1+r$. Meanwhile, the dots at $y=0$ are *mostly* purple - it's possible for entrepreneurs with $\\gamma>1$ to not seek financing too, due to small project returns, or too little net worth (and too expensive interest payments)."
   ]
  },
  {
   "cell_type": "code",
   "execution_count": 18,
   "metadata": {},
   "outputs": [
    {
     "name": "stderr",
     "output_type": "stream",
     "text": [
      "/tmp/ipykernel_207/2052016324.py:3: RuntimeWarning: invalid value encountered in sqrt\n",
      "  r_e-((1-W_e)*(1+r))-(c/2*r_e)*(2*r_e-c-((2*r_e-c)**2-4*r_e*(1+r)*(1-W_e))**0.5)>(1+r)*W_e,\n"
     ]
    },
    {
     "data": {
      "image/png": "[encoded data removed]",
      "text/plain": [
       "<Figure size 432x288 with 1 Axes>"
      ]
     },
     "metadata": {
      "needs_background": "light"
     },
     "output_type": "display_data"
    }
   ],
   "source": [
    "scatter = plt.scatter(W_e, seek_bin(W_e,r_e), c=bin_r_e(r_e=r_e))\n",
    "names = ['Below 1', 'Above 1']\n",
    "plt.legend(handles=scatter.legend_elements()[0], \n",
    "           labels=names,\n",
    "           title=\"Project output\")\n",
    "plt.xlabel(\"Entrepreneur net worth\")\n",
    "plt.ylabel(\"Financing decision\")\n",
    "plt.show()"
   ]
  },
  {
   "cell_type": "markdown",
   "metadata": {},
   "source": [
    "However, there is a small interval of project output in which **net worth** actually matters for the financing decision."
   ]
  },
  {
   "cell_type": "markdown",
   "metadata": {},
   "source": [
    "Remember the entrepreneur seeks financing when\n",
    "\n",
    "$\\gamma-(1-W)(1+r)-A>(1+r)W$\n",
    "\n",
    "Which can be simplified to\n",
    "\n",
    "$\\gamma>(1+r)+A$\n",
    "\n",
    "So this interval can be described as\n",
    "\n",
    "$\\gamma \\in (1+r+A(W_{MAX}), 1+r+A(W_{MIN}))$\n",
    "\n",
    "And the length of the interval is simply\n",
    "\n",
    "$A(W_{MIN})-A(W_{MAX})$\n",
    "\n",
    "Determined by the function\n",
    "\n",
    "$A=\\frac{c}{2 \\gamma}\\left(2 \\gamma-c-\\sqrt{(2 \\gamma-c)^2-4 \\gamma(1+r)(1-W)}\\right)$"
   ]
  },
  {
   "cell_type": "markdown",
   "metadata": {},
   "source": [
    "Let's take a look at how the size of this interval changes.\n",
    "\n",
    "We describe a function according to the equations specified above."
   ]
  },
  {
   "cell_type": "code",
   "execution_count": 19,
   "metadata": {},
   "outputs": [],
   "source": [
    "def int_size(c,r,r_e=1):\n",
    "    return c/2*r_e*(2*r_e-c-((2*r_e-c)**2-4*r_e*(1+r)*(1-min(W_e)))**0.5)-c/2*r_e*(2*r_e-c-((2*r_e-c)**2-4*r_e*(1+r)*(1-max(W_e)))**0.5)"
   ]
  },
  {
   "cell_type": "markdown",
   "metadata": {},
   "source": [
    "Now, we plot the interval size against the unit verification cost $c$."
   ]
  },
  {
   "cell_type": "code",
   "execution_count": 20,
   "metadata": {},
   "outputs": [
    {
     "name": "stderr",
     "output_type": "stream",
     "text": [
      "/tmp/ipykernel_207/2404759418.py:2: RuntimeWarning: invalid value encountered in sqrt\n",
      "  return c/2*r_e*(2*r_e-c-((2*r_e-c)**2-4*r_e*(1+r)*(1-min(W_e)))**0.5)-c/2*r_e*(2*r_e-c-((2*r_e-c)**2-4*r_e*(1+r)*(1-max(W_e)))**0.5)\n"
     ]
    },
    {
     "data": {
      "text/plain": [
       "<matplotlib.collections.PathCollection at 0x7f3a7b06a220>"
      ]
     },
     "execution_count": 20,
     "metadata": {},
     "output_type": "execute_result"
    },
    {
     "data": {
      "image/png": "[encoded data removed]",
      "text/plain": [
       "<Figure size 432x288 with 1 Axes>"
      ]
     },
     "metadata": {
      "needs_background": "light"
     },
     "output_type": "display_data"
    }
   ],
   "source": [
    "c = np.linspace(0,0.5,300)\n",
    "plt.scatter(c, int_size(c=c,r=r))"
   ]
  },
  {
   "cell_type": "markdown",
   "metadata": {},
   "source": [
    "The interval size rises asymptotically along with the unit verification cost $c$, resulting in less decisions to seek financing as a result of the varying net worth."
   ]
  },
  {
   "cell_type": "markdown",
   "metadata": {},
   "source": [
    "Let's use $A(W_{max})$ and $A(W_{min})$ to show how net worth can actually effect the finacing decision (1 and 0 on the y axis)."
   ]
  },
  {
   "cell_type": "code",
   "execution_count": 21,
   "metadata": {},
   "outputs": [
    {
     "data": {
      "image/png": "[encoded data removed]",
      "text/plain": [
       "<Figure size 432x288 with 1 Axes>"
      ]
     },
     "metadata": {
      "needs_background": "light"
     },
     "output_type": "display_data"
    }
   ],
   "source": [
    "c=0.1\n",
    "plt.scatter(W_e, seek_bin(W_e,r_e=1+r+A(max(W_e))+0.00001))\n",
    "plt.xlabel(\"Entrepreneur net worth\")\n",
    "plt.ylabel(\"Financing decision\")\n",
    "plt.show()"
   ]
  },
  {
   "cell_type": "markdown",
   "metadata": {},
   "source": [
    "For the highest net worth individuals, projects need only slightly more than the positive NPV threshold $\\gamma\\ge1+r$, because $A$ is very small."
   ]
  },
  {
   "cell_type": "code",
   "execution_count": 22,
   "metadata": {},
   "outputs": [
    {
     "data": {
      "image/png": "[encoded data removed]",
      "text/plain": [
       "<Figure size 432x288 with 1 Axes>"
      ]
     },
     "metadata": {
      "needs_background": "light"
     },
     "output_type": "display_data"
    }
   ],
   "source": [
    "plt.scatter(W_e, seek_bin(W_e,r_e=1+r+0.01))\n",
    "plt.xlabel(\"Entrepreneur net worth\")\n",
    "plt.ylabel(\"Financing decision\")\n",
    "plt.show()"
   ]
  },
  {
   "cell_type": "markdown",
   "metadata": {},
   "source": [
    "Somewhere in the middle of the interval..."
   ]
  },
  {
   "cell_type": "code",
   "execution_count": 23,
   "metadata": {},
   "outputs": [
    {
     "data": {
      "image/png": "[encoded data removed]",
      "text/plain": [
       "<Figure size 432x288 with 1 Axes>"
      ]
     },
     "metadata": {
      "needs_background": "light"
     },
     "output_type": "display_data"
    }
   ],
   "source": [
    "plt.scatter(W_e, seek_bin(W_e,r_e=1+r+A(min(W_e))-0.00001))\n",
    "plt.show()"
   ]
  },
  {
   "cell_type": "markdown",
   "metadata": {},
   "source": [
    "...and the tail end."
   ]
  },
  {
   "cell_type": "code",
   "execution_count": 24,
   "metadata": {},
   "outputs": [
    {
     "name": "stdout",
     "output_type": "stream",
     "text": [
      "There will be 84 entrepreneurs for whom net worth will matter in the financing decision\n"
     ]
    }
   ],
   "source": [
    "count = np.sum(np.logical_and(1+r < r_e, r_e < (1 + r + int_size(c=c, r=r))))\n",
    "print(f\"There will be {count} entrepreneurs for whom net worth will matter in the financing decision\")"
   ]
  },
  {
   "cell_type": "markdown",
   "metadata": {},
   "source": [
    "### Aggregate economy outcomes\n",
    "\n",
    "In this section, we summarize how many entrepreneurs seek financing, their characteristics, what lending cirucmstances they encounter and what is the aggregate output they produce for the overall economy.\n",
    "\n",
    "First, we count all the entrepreneurs seeking financing in this economy."
   ]
  },
  {
   "cell_type": "code",
   "execution_count": 25,
   "metadata": {},
   "outputs": [
    {
     "name": "stdout",
     "output_type": "stream",
     "text": [
      "There will be 1916 entrepreneurs seeking financing in this economy\n"
     ]
    },
    {
     "name": "stderr",
     "output_type": "stream",
     "text": [
      "/tmp/ipykernel_207/2052016324.py:3: RuntimeWarning: invalid value encountered in sqrt\n",
      "  r_e-((1-W_e)*(1+r))-(c/2*r_e)*(2*r_e-c-((2*r_e-c)**2-4*r_e*(1+r)*(1-W_e))**0.5)>(1+r)*W_e,\n"
     ]
    }
   ],
   "source": [
    "def count_ones(f):\n",
    "    return sum(1 for x in f if x == 1)\n",
    "num = count_ones(seek_bin(W_e,r_e))\n",
    "print(f\"There will be {num} entrepreneurs seeking financing in this economy\")"
   ]
  },
  {
   "cell_type": "markdown",
   "metadata": {},
   "source": [
    "Next, we look at the average net worths of successful and unsuccessful entrepreneurs."
   ]
  },
  {
   "cell_type": "code",
   "execution_count": 26,
   "metadata": {},
   "outputs": [
    {
     "name": "stdout",
     "output_type": "stream",
     "text": [
      "The average net worth of a successful entrepreneur is 0.699, in comparison to the overall average of 0.701\n"
     ]
    },
    {
     "name": "stderr",
     "output_type": "stream",
     "text": [
      "/tmp/ipykernel_207/2052016324.py:3: RuntimeWarning: invalid value encountered in sqrt\n",
      "  r_e-((1-W_e)*(1+r))-(c/2*r_e)*(2*r_e-c-((2*r_e-c)**2-4*r_e*(1+r)*(1-W_e))**0.5)>(1+r)*W_e,\n"
     ]
    }
   ],
   "source": [
    "net_worths = seek_bin(W_e,r_e)*W_e\n",
    "average_w = round(np.sum(net_worths)/num,3)\n",
    "av_w = round(np.sum(W_e)/n_e,3)\n",
    "print(f\"The average net worth of a successful entrepreneur is {average_w}, in comparison to the overall average of {av_w}\")"
   ]
  },
  {
   "cell_type": "markdown",
   "metadata": {},
   "source": [
    "We look at the average project outputs of the two groups..."
   ]
  },
  {
   "cell_type": "code",
   "execution_count": 27,
   "metadata": {},
   "outputs": [
    {
     "name": "stdout",
     "output_type": "stream",
     "text": [
      "The average project output of a successful entrepreneur is 1.516, in comparison to the overall average of 0.996\n"
     ]
    },
    {
     "name": "stderr",
     "output_type": "stream",
     "text": [
      "/tmp/ipykernel_207/2052016324.py:3: RuntimeWarning: invalid value encountered in sqrt\n",
      "  r_e-((1-W_e)*(1+r))-(c/2*r_e)*(2*r_e-c-((2*r_e-c)**2-4*r_e*(1+r)*(1-W_e))**0.5)>(1+r)*W_e,\n"
     ]
    }
   ],
   "source": [
    "returns = seek_bin(W_e,r_e)*r_e\n",
    "average_r = round(np.sum(returns)/num,3)\n",
    "av_r = round(np.sum(r_e)/n_e,3)\n",
    "print(f\"The average project output of a successful entrepreneur is {average_r}, in comparison to the overall average of {av_r}\")"
   ]
  },
  {
   "cell_type": "markdown",
   "metadata": {},
   "source": [
    "...the average debt contract of the successful entrepreneur..."
   ]
  },
  {
   "cell_type": "code",
   "execution_count": 28,
   "metadata": {},
   "outputs": [
    {
     "name": "stdout",
     "output_type": "stream",
     "text": [
      "The average entrepreneur is borrowing 0.301 with a debt contract of 0.363 and interest payment of 0.062\n"
     ]
    },
    {
     "name": "stderr",
     "output_type": "stream",
     "text": [
      "/tmp/ipykernel_207/2052016324.py:3: RuntimeWarning: invalid value encountered in sqrt\n",
      "  r_e-((1-W_e)*(1+r))-(c/2*r_e)*(2*r_e-c-((2*r_e-c)**2-4*r_e*(1+r)*(1-W_e))**0.5)>(1+r)*W_e,\n"
     ]
    }
   ],
   "source": [
    "debt = seek_bin(W_e,r_e)*D(W_e)\n",
    "average_d = round(np.sum(debt)/num,3)\n",
    "interest = seek_bin(W_e,r_e)*i(W_e)\n",
    "average_i = round(np.sum(interest)/num,3)\n",
    "print(f\"The average entrepreneur is borrowing {round(1-average_w,3)} with a debt contract of {average_d} and interest payment of {average_i}\")"
   ]
  },
  {
   "cell_type": "markdown",
   "metadata": {},
   "source": [
    "...and the output that all of them generate."
   ]
  },
  {
   "cell_type": "code",
   "execution_count": 29,
   "metadata": {},
   "outputs": [
    {
     "name": "stdout",
     "output_type": "stream",
     "text": [
      "The output of this economy will equal 2905.099\n"
     ]
    },
    {
     "name": "stderr",
     "output_type": "stream",
     "text": [
      "/tmp/ipykernel_207/2052016324.py:3: RuntimeWarning: invalid value encountered in sqrt\n",
      "  r_e-((1-W_e)*(1+r))-(c/2*r_e)*(2*r_e-c-((2*r_e-c)**2-4*r_e*(1+r)*(1-W_e))**0.5)>(1+r)*W_e,\n"
     ]
    }
   ],
   "source": [
    "outputs = seek_bin(W_e,r_e)*r_e\n",
    "output = np.sum(outputs)\n",
    "output\n",
    "print(f\"The output of this economy will equal {round(output,3)}\")"
   ]
  },
  {
   "cell_type": "markdown",
   "metadata": {},
   "source": [
    "## Extension\n",
    "\n",
    "In the extension, we introduce an exogenous energy shock $\\delta$.\n",
    "\n",
    "Its impact will be moderated by $\\mu$, the entrepreneur's share of non-renewable energy in the energy mix.\n",
    "\n",
    "Entrepreneurs are endowed with a random share of non-renewable energy in their energy mix, drawn from the following normal distribution."
   ]
  },
  {
   "cell_type": "code",
   "execution_count": 30,
   "metadata": {},
   "outputs": [
    {
     "data": {
      "text/plain": [
       "array([0.643034, 0.615737, 1.      , 0.421472, 1.      , 0.771098,\n",
       "       0.884357, 0.577485, 0.817434, 0.88278 , 0.810586, 0.796964,\n",
       "       0.778056, 1.      , 0.840793, 0.925812, 1.      , 0.629467,\n",
       "       0.727016, 0.917957, 0.948844, 0.894499, 0.842569, 0.654142,\n",
       "       0.785472, 1.      , 0.771765, 0.97539 , 0.532517, 0.773805,\n",
       "       0.359394, 0.896215, 0.660754, 1.      , 0.915861, 1.      ,\n",
       "       0.606481, 0.887075, 0.873517, 1.      , 0.694034, 0.746173,\n",
       "       0.723454, 0.767065, 0.538019, 0.845149, 0.925881, 0.821149,\n",
       "       0.761816, 0.721594])"
      ]
     },
     "execution_count": 30,
     "metadata": {},
     "output_type": "execute_result"
    }
   ],
   "source": [
    "mu = np.array(pm.Normal.dist(0.8,0.2).random(size=n_e))\n",
    "mu[mu>1]=1\n",
    "mu[mu<0]=0\n",
    "mu[:50]"
   ]
  },
  {
   "cell_type": "markdown",
   "metadata": {},
   "source": [
    "Their post-shock net worth is given by\n",
    "\n",
    "$W_{post}=W-\\mu \\delta W$\n",
    "\n",
    "We set the severity of the energy shock at $\\delta=0.5$. This implies that for a firm fully reliant on non-renewable energy, the shock will halve its net worth."
   ]
  },
  {
   "cell_type": "code",
   "execution_count": 31,
   "metadata": {},
   "outputs": [
    {
     "data": {
      "text/plain": [
       "array([0.473806, 0.438672, 0.33739 , 0.716896, 0.357263, 0.450858,\n",
       "       0.348848, 0.547296, 0.358275, 0.343901, 0.464386, 0.475318,\n",
       "       0.404163, 0.429115, 0.474543, 0.451272, 0.354692, 0.679471,\n",
       "       0.326613, 0.295954, 0.28462 , 0.38782 , 0.388077, 0.484656,\n",
       "       0.399201, 0.33337 , 0.539592, 0.316801, 0.444186, 0.298357,\n",
       "       0.407686, 0.401492, 0.364747, 0.328373, 0.407868, 0.387248,\n",
       "       0.470252, 0.425133, 0.438664, 0.375701, 0.488317, 0.407335,\n",
       "       0.511202, 0.386279, 0.498139, 0.242574, 0.33617 , 0.375626,\n",
       "       0.460002, 0.462776])"
      ]
     },
     "execution_count": 31,
     "metadata": {},
     "output_type": "execute_result"
    }
   ],
   "source": [
    "delta=0.5\n",
    "W_post = W_e - mu*delta*W_e\n",
    "W_post[:50]"
   ]
  },
  {
   "cell_type": "markdown",
   "metadata": {},
   "source": [
    "Let's take a quick look at what this energy crisis means for the economy."
   ]
  },
  {
   "cell_type": "code",
   "execution_count": 32,
   "metadata": {},
   "outputs": [
    {
     "name": "stdout",
     "output_type": "stream",
     "text": [
      "Entrepreneurs net worth has fallen by 0.273 on average\n"
     ]
    }
   ],
   "source": [
    "dif = np.mean(W_post)-np.mean(W_e)\n",
    "print(f\"Entrepreneurs net worth has fallen by {round(-dif,3)} on average\")"
   ]
  },
  {
   "cell_type": "code",
   "execution_count": 33,
   "metadata": {},
   "outputs": [
    {
     "name": "stdout",
     "output_type": "stream",
     "text": [
      "The number of successful entrepreneurs has fallen by 1.983%\n"
     ]
    },
    {
     "name": "stderr",
     "output_type": "stream",
     "text": [
      "/tmp/ipykernel_207/2052016324.py:3: RuntimeWarning: invalid value encountered in sqrt\n",
      "  r_e-((1-W_e)*(1+r))-(c/2*r_e)*(2*r_e-c-((2*r_e-c)**2-4*r_e*(1+r)*(1-W_e))**0.5)>(1+r)*W_e,\n"
     ]
    }
   ],
   "source": [
    "num_pre = count_ones(seek_bin(W_e,r_e))\n",
    "num_post = count_ones(seek_bin(W_post,r_e))\n",
    "print(f\"The number of successful entrepreneurs has fallen by {round(((num_pre-num_post)/num_pre)*100,3)}%\")"
   ]
  },
  {
   "cell_type": "code",
   "execution_count": 34,
   "metadata": {},
   "outputs": [
    {
     "name": "stdout",
     "output_type": "stream",
     "text": [
      "Output has fallen by 1.374%\n"
     ]
    },
    {
     "name": "stderr",
     "output_type": "stream",
     "text": [
      "/tmp/ipykernel_207/2052016324.py:3: RuntimeWarning: invalid value encountered in sqrt\n",
      "  r_e-((1-W_e)*(1+r))-(c/2*r_e)*(2*r_e-c-((2*r_e-c)**2-4*r_e*(1+r)*(1-W_e))**0.5)>(1+r)*W_e,\n"
     ]
    }
   ],
   "source": [
    "output_pre = np.sum(seek_bin(W_e,r_e)*r_e)\n",
    "output_post = np.sum(seek_bin(W_post,r_e)*r_e)\n",
    "print(f\"Output has fallen by {round(((output_pre-output_post)/output_pre)*100,3)}%\")"
   ]
  },
  {
   "cell_type": "markdown",
   "metadata": {},
   "source": [
    "Now, we will conduct 1000 draws from the parameter distributions of $\\mu$ and $W$, to provide more reliable estimates of the effect of an energy shock $\\delta=0.5$"
   ]
  },
  {
   "cell_type": "code",
   "execution_count": null,
   "metadata": {},
   "outputs": [],
   "source": [
    "mu_samples = []\n",
    "W_e_samples = []\n",
    "\n",
    "for i in range(n_e):\n",
    "    mu_sample = pm.Normal.dist(mu[i],0.2).random(size=1000)\n",
    "    mu_samples.append(mu_sample)\n",
    "\n",
    "    W_e_sample = pm.Normal.dist(W_e[i],0.1).random(size=1000)\n",
    "    W_e_samples.append(W_e_sample)"
   ]
  },
  {
   "cell_type": "markdown",
   "metadata": {},
   "source": [
    "Putting the samples into arrays and calculating their means"
   ]
  },
  {
   "cell_type": "code",
   "execution_count": null,
   "metadata": {},
   "outputs": [],
   "source": [
    "mu_samples = np.array(mu_samples)\n",
    "W_e_samples = np.array(W_e_samples)\n",
    "\n",
    "mu = np.mean(mu_samples, axis=1)\n",
    "mu[mu>1]=1\n",
    "mu[mu<0]=0\n",
    "W_e = np.mean(W_e_samples, axis=1)\n",
    "W[W>1]=0.999999\n",
    "\n",
    "W_post = W_e - mu*delta*W_e"
   ]
  },
  {
   "cell_type": "code",
   "execution_count": null,
   "metadata": {},
   "outputs": [],
   "source": [
    "dif = np.mean(W_post)-np.mean(W_e)\n",
    "print(f\"Entrepreneurs net worth has fallen by {round(-dif,3)} on average\")"
   ]
  },
  {
   "cell_type": "code",
   "execution_count": null,
   "metadata": {},
   "outputs": [],
   "source": [
    "num_pre = count_ones(seek_bin(W_e,r_e))\n",
    "num_post = count_ones(seek_bin(W_post,r_e))\n",
    "print(f\"The number of successful entrepreneurs has fallen by {round(((num_pre-num_post)/num_pre)*100,3)}%\")"
   ]
  },
  {
   "cell_type": "code",
   "execution_count": null,
   "metadata": {},
   "outputs": [],
   "source": [
    "output_pre = np.sum(seek_bin(W_e,r_e)*r_e)\n",
    "output_post = np.sum(seek_bin(W_post,r_e)*r_e)\n",
    "print(f\"Output has fallen by {round(((output_pre-output_post)/output_pre)*100,3)}%\")"
   ]
  },
  {
   "cell_type": "markdown",
   "metadata": {},
   "source": [
    "Whether or not these number differ significantly from the earlier ones, they can definetely be viewed as more reliable."
   ]
  },
  {
   "cell_type": "markdown",
   "metadata": {},
   "source": [
    "Next, let's see how the outcomes are moderated by different values of $\\delta$ and $\\mu$.\n",
    "\n",
    "First, let's examine the effect of the severity of energy shock $\\delta$."
   ]
  },
  {
   "cell_type": "markdown",
   "metadata": {},
   "source": [
    "### Impact of energy shock severity $\\delta$"
   ]
  },
  {
   "cell_type": "markdown",
   "metadata": {},
   "source": [
    "Reweriting the financing decision function to include the energy shock"
   ]
  },
  {
   "cell_type": "code",
   "execution_count": null,
   "metadata": {},
   "outputs": [],
   "source": [
    "def seek_post(W_e, r_e, delta, mu):\n",
    "    result = np.where(\n",
    "        r_e - ((1 - (W_e - delta * mu * W_e)) * (1 + r)) - (c / 2 * r_e) * (2 * r_e - c - ((2 * r_e - c) ** 2 - 4 * r_e * (1 + r) * (1 - (W_e - delta * mu * W_e)) ** 0.5)) > (1 + r) * (W_e - delta * mu * W_e),\n",
    "        1, \n",
    "        0\n",
    "    )\n",
    "    return result"
   ]
  },
  {
   "cell_type": "markdown",
   "metadata": {},
   "source": [
    "Storing the results (the number of ones) from the previous function, for different values of $\\delta$."
   ]
  },
  {
   "cell_type": "code",
   "execution_count": null,
   "metadata": {},
   "outputs": [],
   "source": [
    "delta_range = np.linspace(0, 1, 100)\n",
    "numbers = []\n",
    "for delta in delta_range:\n",
    "    number = seek_post(W_e, r_e, delta, mu)\n",
    "    num_ones = np.sum(number)\n",
    "    numbers.append(num_ones)\n",
    "numbers = np.array(numbers)\n",
    "numbers"
   ]
  },
  {
   "cell_type": "markdown",
   "metadata": {},
   "source": [
    "And plotting..."
   ]
  },
  {
   "cell_type": "code",
   "execution_count": null,
   "metadata": {},
   "outputs": [],
   "source": [
    "plt.plot(delta_range,numbers)\n",
    "plt.xlabel(\"Severity of the energy shock $\\delta$\")\n",
    "plt.ylabel(\"Number of successful entrepreneurs\")"
   ]
  },
  {
   "cell_type": "markdown",
   "metadata": {},
   "source": [
    "This is how the number of entrepreneurs depends on the severity of the energy shock $\\delta$. Notice that the number of entrepreneurs does not fall to 0, or even below 1700. This means that borrowing with very little collateral is possible, and is most likely done by the majority of entrepreneurs in this model at $\\delta=1$. The entrepreneurs will borrow with very high interest rates, but since they are sure of their project output, they will pursue financing anyway.\n",
    "\n",
    "Let's take a look at how the economy's output is impacted by the severity of the shock.\n",
    "\n",
    "First, we calucalte the aggregate output."
   ]
  },
  {
   "cell_type": "code",
   "execution_count": null,
   "metadata": {},
   "outputs": [],
   "source": [
    "outputs = seek_post(W_e,r_e,delta,mu)*r_e\n",
    "output = np.sum(outputs)\n",
    "output"
   ]
  },
  {
   "cell_type": "markdown",
   "metadata": {},
   "source": [
    "Again, we store the output results for 100 different values of $\\delta$."
   ]
  },
  {
   "cell_type": "code",
   "execution_count": null,
   "metadata": {},
   "outputs": [],
   "source": [
    "delta_range = np.linspace(0, 1, 100)\n",
    "results = []\n",
    "for delta in delta_range:\n",
    "    result = seek_post(W_e, r_e, delta, mu)*r_e\n",
    "    output = np.sum(result)\n",
    "    results.append(output)\n",
    "results = np.array(results)\n",
    "results[:10]"
   ]
  },
  {
   "cell_type": "markdown",
   "metadata": {},
   "source": [
    "And we plot the results"
   ]
  },
  {
   "cell_type": "code",
   "execution_count": null,
   "metadata": {},
   "outputs": [],
   "source": [
    "plt.plot(delta_range,results)\n",
    "plt.xlabel(\"Severity of the energy shock $\\delta$\")\n",
    "plt.ylabel(\"Aggregate output\")"
   ]
  },
  {
   "cell_type": "markdown",
   "metadata": {},
   "source": [
    "A clear similarity between the two plots - aggregate output is very closely intertwined with the number of entrepreneurs.\n",
    "\n",
    "It is important to note the channel through which this slide happens. More entrepreneurs decide to not seek financing as a result of their decline in net worth, which pushes up the interest payments they would face. Only the entrepreneurs with sufficiently high project outputs will seek financing regardless. "
   ]
  },
  {
   "cell_type": "markdown",
   "metadata": {},
   "source": [
    "### Impact of the energy mix $\\mu$"
   ]
  },
  {
   "cell_type": "markdown",
   "metadata": {},
   "source": [
    "Now, let's go back to the firms' energy mix.\n",
    "\n",
    "We will see how the average levels of non-renewable energy in entrepreneurs' portfolios impact the number of entrepreneurs and output, in case of an energy shock $\\delta=0.5$."
   ]
  },
  {
   "cell_type": "markdown",
   "metadata": {},
   "source": [
    "Again, the post-shock net worth is given by"
   ]
  },
  {
   "cell_type": "code",
   "execution_count": null,
   "metadata": {},
   "outputs": [],
   "source": [
    "W_post = W_e - mu*delta*W_e\n",
    "W_post[:50]"
   ]
  },
  {
   "cell_type": "markdown",
   "metadata": {},
   "source": [
    "With every entrepreneur endowed with a random $\\mu$ governed by the distribution"
   ]
  },
  {
   "cell_type": "code",
   "execution_count": null,
   "metadata": {},
   "outputs": [],
   "source": [
    "mean=0.8\n",
    "mu = np.array(pm.Normal.dist(mean,0.2).random(size=n_e))\n",
    "mu[mu>1]=1\n",
    "mu[mu<0]=0\n",
    "mu[:50]"
   ]
  },
  {
   "cell_type": "markdown",
   "metadata": {},
   "source": [
    "#### Tweaking the mean values\n",
    "\n",
    "Now, let's examine how the number of entrepreneurs changes with different distribution means."
   ]
  },
  {
   "cell_type": "code",
   "execution_count": null,
   "metadata": {},
   "outputs": [],
   "source": [
    "mean_range = np.linspace(0, 1, 100)\n",
    "numbers = []\n",
    "for mean in mean_range:\n",
    "    mu = np.array(pm.Normal.dist(mean,0.2).random(size=n_e))\n",
    "    mu[mu>1]=1\n",
    "    mu[mu<0]=0\n",
    "    number = seek_post(W_e, r_e, delta, mu)\n",
    "    num_ones = np.sum(number)\n",
    "    numbers.append(num_ones)\n",
    "numbers = np.array(numbers)\n",
    "numbers"
   ]
  },
  {
   "cell_type": "code",
   "execution_count": null,
   "metadata": {},
   "outputs": [],
   "source": [
    "plt.plot(mean_range,numbers)\n",
    "plt.xlabel(\"Mean share of non-renewable energy in entrepreneurs' energy mix\")\n",
    "plt.ylabel(\"Number of successful entrepreneurs\")"
   ]
  },
  {
   "cell_type": "code",
   "execution_count": null,
   "metadata": {},
   "outputs": [],
   "source": [
    "mean_range = np.linspace(0, 1, 100)\n",
    "results = []\n",
    "for mean in mean_range:\n",
    "    mu = np.array(pm.Normal.dist(mean,0.2).random(size=n_e))\n",
    "    mu[mu>1]=1\n",
    "    mu[mu<0]=0\n",
    "    result = seek_post(W_e, r_e, delta, mu)*r_e\n",
    "    output = np.sum(result)\n",
    "    results.append(output)\n",
    "results = np.array(results)\n",
    "results[:10]"
   ]
  },
  {
   "cell_type": "code",
   "execution_count": null,
   "metadata": {},
   "outputs": [],
   "source": [
    "plt.plot(mean_range,results)\n",
    "plt.xlabel(\"Mean share of non-renewable energy in entrepreneurs' energy mix\")\n",
    "plt.ylabel(\"Aggregate output\")"
   ]
  },
  {
   "cell_type": "markdown",
   "metadata": {},
   "source": [
    "Again, the plots are similar to each other. Their trend is also very similar to the plots for $\\delta$, but with slightly higher variance."
   ]
  },
  {
   "cell_type": "markdown",
   "metadata": {},
   "source": [
    "### Impact of both $\\delta$ and $\\mu$\n",
    "\n",
    "Now, we will simulataneously examine the impact of both the energy shock severity $\\delta$ and the entrepreneurs' energy mix $\\mu$ on the output by  plotting the variables against each other, and aggregate output, on a 3-dimensional plot.\n",
    "\n",
    "To do this, we create a range of values for $\\delta$ and $\\mu$, and a corresponding array in which we store the results for each combination of these values."
   ]
  },
  {
   "cell_type": "code",
   "execution_count": null,
   "metadata": {},
   "outputs": [],
   "source": [
    "delta_range = np.linspace(0,1,100)\n",
    "mu_range = np.linspace(0,1,100)\n",
    "results = np.empty((len(delta_range), len(mu_range)))\n",
    "\n",
    "for i, delta in enumerate(delta_range):\n",
    "    for j, mu in enumerate(mu_range):\n",
    "        result = seek_post(W_e, r_e, delta, mu)*r_e\n",
    "        output = np.sum(result)\n",
    "        results[i, j] = output\n",
    "        \n",
    "results"
   ]
  },
  {
   "cell_type": "markdown",
   "metadata": {},
   "source": [
    "And we plot these 3 arrays as a surface on a 3-d plot"
   ]
  },
  {
   "cell_type": "code",
   "execution_count": null,
   "metadata": {},
   "outputs": [],
   "source": [
    "fig = plt.figure()\n",
    "ax = fig.add_subplot(111, projection='3d')\n",
    "\n",
    "ax.plot_surface(delta_range, mu_range, results, cmap='viridis')\n",
    "surf = ax.plot_surface(delta_range, mu_range, results, cmap='viridis')\n",
    "\n",
    "ax.set_xlabel('$\\delta$')\n",
    "ax.set_ylabel('$\\mu$')\n",
    "ax.set_zlabel('Output')\n",
    "ax.view_init(15, 20)\n",
    "plt.colorbar(surf)\n",
    "\n",
    "plt.show()"
   ]
  },
  {
   "cell_type": "markdown",
   "metadata": {},
   "source": [
    "From the plot we can see that $\\mu$ and $\\delta$ the same effect on output. Output can remain high for a combination of very high $\\mu$ and low $\\delta$, and vice versa. This means that the effect of a severe energy shock on output can be mitigated, if $\\mu$ is relatively low."
   ]
  },
  {
   "cell_type": "markdown",
   "metadata": {},
   "source": [
    "### Abatement possibilty\n",
    "\n",
    "Now, we will introduce an abatement possibility for the social planner, which can reduce the share of non-renewable energy to $\\mu-a$, but which costs $x$ units of output."
   ]
  },
  {
   "cell_type": "markdown",
   "metadata": {},
   "source": [
    "Now, the post-shock net worth, with abatement possibility, is given by\n",
    "\n",
    "$W{post}=W-\\delta (\\mu-a) W$\n",
    "\n",
    "and $a$ is determined by the function\n",
    "\n",
    "$a(x)=\\beta x$\n",
    "\n",
    "where $x$ is the amount of output the social planner uses to abate, and\n",
    "\n",
    "$\\beta$ is the efficiency of abatement spending, or the abatement technology.\n",
    "\n",
    "Therefore, the transformation from an economy completely reliant on non-renewable energy to an economy using only renewable energy would cost $\\beta x$."
   ]
  },
  {
   "cell_type": "markdown",
   "metadata": {},
   "source": [
    "Once again updating the financing decision equation"
   ]
  },
  {
   "cell_type": "code",
   "execution_count": null,
   "metadata": {},
   "outputs": [],
   "source": [
    "def seek_ab(W_e, r_e, delta, mu, x, beta):\n",
    "    mu_x = np.maximum(mu-(beta*x), 0)\n",
    "    result = np.where(\n",
    "        r_e - ((1 - (W_e - delta * mu_x * W_e)) * (1 + r)) - (c / 2 * r_e) * (2 * r_e - c - ((2 * r_e - c) ** 2 - 4 * r_e * (1 + r) * (1 - (W_e - delta * mu_x * W_e)) ** 0.5)) > (1 + r) * (W_e - delta * mu_x * W_e),\n",
    "        1, \n",
    "        0\n",
    "    )\n",
    "    return result"
   ]
  },
  {
   "cell_type": "markdown",
   "metadata": {},
   "source": [
    "Putting $\\delta$ and $\\mu$ back to their starting values"
   ]
  },
  {
   "cell_type": "code",
   "execution_count": null,
   "metadata": {},
   "outputs": [],
   "source": [
    "delta=0.5\n",
    "mu = np.array(pm.Normal.dist(0.8,0.2).random(size=n_e))\n",
    "mu[mu>1]=1\n",
    "mu[mu<0]=0"
   ]
  },
  {
   "cell_type": "markdown",
   "metadata": {},
   "source": [
    "And looking at the effect of increasing abatement spending on the number of entrepreneurs, while keeping $\\beta$ constant at $\\beta=\\frac{1}{500}$. This means that full abatement from a completely brown economy would cost $x=500$ units of output.\n",
    "\n",
    "To do this, we put the number of entrepreneurs for these different levels of abatement spending $x$ into the 'numbers' array."
   ]
  },
  {
   "cell_type": "code",
   "execution_count": null,
   "metadata": {},
   "outputs": [],
   "source": [
    "beta=1/500\n",
    "x_range = np.linspace(0, 500, 1000)\n",
    "numbers = []\n",
    "for x in x_range:\n",
    "    number = seek_ab(W_e, r_e, delta, mu, x, beta)\n",
    "    num_ones = np.sum(number)\n",
    "    numbers.append(num_ones)\n",
    "numbers = np.array(numbers)\n",
    "numbers[:50]"
   ]
  },
  {
   "cell_type": "markdown",
   "metadata": {},
   "source": [
    "And we plot the results"
   ]
  },
  {
   "cell_type": "code",
   "execution_count": null,
   "metadata": {},
   "outputs": [],
   "source": [
    "plt.plot(x_range,numbers)\n",
    "plt.xlabel(\"Abatement spending $x$\")\n",
    "plt.ylabel(\"Number of entrepreneurs\")"
   ]
  },
  {
   "cell_type": "markdown",
   "metadata": {},
   "source": [
    "As expected, the number of entrepreneurs rises along with abatement spending until $x=500$ when the non-renewable energy is fully abated ($\\beta x=1$)."
   ]
  },
  {
   "cell_type": "markdown",
   "metadata": {},
   "source": [
    "Now, let's examine the effect on aggregate output - with the cost of abatement taken into account.\n",
    "\n",
    "Once again, let's compile all the outputs, for all these different values of $x$."
   ]
  },
  {
   "cell_type": "code",
   "execution_count": null,
   "metadata": {},
   "outputs": [],
   "source": [
    "x_range = np.linspace(0, 500, 1000)\n",
    "results = []\n",
    "for x in x_range:\n",
    "    result = (seek_ab(W_e, r_e, delta, mu, x, beta)*r_e)\n",
    "    output = np.sum(result)-x\n",
    "    results.append(output)\n",
    "results = np.array(results)\n",
    "results[:10]"
   ]
  },
  {
   "cell_type": "code",
   "execution_count": null,
   "metadata": {},
   "outputs": [],
   "source": [
    "plt.plot(x_range, results)\n",
    "plt.xlabel(\"Abatement spending $x$\")\n",
    "plt.ylabel(\"Aggregate output\")"
   ]
  },
  {
   "cell_type": "markdown",
   "metadata": {},
   "source": [
    "In the context of net worth's effect on financing, there are no benefits to any amount of abatement on output with an abatement technology given by the function $a(x)=\\frac{x}{500}$. The abatement technology is too expensive to justify its use (from a purely financial perspective, and within the confines of this model).\n",
    "\n",
    "Now let's assume that there has been a breakthrough in abatement technology, which has now gone up to $\\beta=\\frac{1}{100}$. This means that $x=100$ units of output spending will provide full abatement.\n",
    "\n",
    "What will be the effect of abatement spending on output in these circumstances?"
   ]
  },
  {
   "cell_type": "markdown",
   "metadata": {},
   "source": [
    "Once again, putting the output values into an array, this time for $\\beta=\\frac{1}{100}$"
   ]
  },
  {
   "cell_type": "code",
   "execution_count": null,
   "metadata": {},
   "outputs": [],
   "source": [
    "beta = 1/100\n",
    "x_range = np.linspace(0, 100, 100)\n",
    "results = []\n",
    "for x in x_range:\n",
    "    result = (seek_ab(W_e, r_e, delta, mu, x, beta)*r_e)\n",
    "    output = np.sum(result)-x\n",
    "    results.append(output)\n",
    "results = np.array(results)\n",
    "results[:10]"
   ]
  },
  {
   "cell_type": "markdown",
   "metadata": {},
   "source": [
    "And plotting the results for output (with the cost of abatement taken into account)"
   ]
  },
  {
   "cell_type": "code",
   "execution_count": null,
   "metadata": {},
   "outputs": [],
   "source": [
    "plt.plot(x_range, results)\n",
    "plt.xlabel(\"Abatement spending $x$\")\n",
    "plt.ylabel(\"Aggregate output\")"
   ]
  },
  {
   "cell_type": "markdown",
   "metadata": {},
   "source": [
    "With the new, more efficient technology, the optimal amount of abatement spending is not zero anymore. In this case, the social planner will choose to spend on abatement to increase the output of this economy."
   ]
  },
  {
   "cell_type": "markdown",
   "metadata": {},
   "source": [
    "Now, let's think of a different scenario. The social planner is not informed about the abatement technology $\\beta$, and every year spends $x=250$ on abatement, say, for his own peace of mind. How will the aggregate output change with increasing abatement technology?"
   ]
  },
  {
   "cell_type": "markdown",
   "metadata": {},
   "source": [
    "Putting the output results into an array, this time for different values of $\\beta$, with $x=250$."
   ]
  },
  {
   "cell_type": "code",
   "execution_count": null,
   "metadata": {},
   "outputs": [],
   "source": [
    "x = 250\n",
    "beta_range = np.linspace(0, 0.005, 1000)\n",
    "results = []\n",
    "for beta in beta_range:\n",
    "    result = (seek_ab(W_e, r_e, delta, mu, x, beta)*r_e)\n",
    "    output = np.sum(result)-x\n",
    "    results.append(output)\n",
    "results = np.array(results)\n",
    "results[:10]"
   ]
  },
  {
   "cell_type": "markdown",
   "metadata": {},
   "source": [
    "And plotting the results"
   ]
  },
  {
   "cell_type": "code",
   "execution_count": null,
   "metadata": {},
   "outputs": [],
   "source": [
    "plt.plot(beta_range, results)\n",
    "plt.xlabel(\"Abatement efficiency\")\n",
    "plt.ylabel(\"Aggregate output\")"
   ]
  },
  {
   "cell_type": "markdown",
   "metadata": {},
   "source": [
    "As predicted, the abatement technology seizes to exert an influence on output after reaching the value $\\beta x=1$, when all entrepreneurs have converted to renewable energy. The benefit from an increase in abatement efficiency is most pronounced at the very beginning of the innovation process, when $\\beta$ rises from 0."
   ]
  },
  {
   "cell_type": "markdown",
   "metadata": {},
   "source": [
    "### Impact of both $\\beta$ and $x$\n",
    "\n",
    "Now, we will create 3-d plots for abatement efficiency $\\beta$ and abatement spending $x$, to see how they interact with each other to influence the aggregate output. \n",
    "\n",
    "First, we will show a plot with abatement technology $\\beta$ increasing from $0$ to $\\frac{1}{100}$ and spending increasing from 0 to 100.\n",
    "\n",
    "To do this, we create a range of values for $\\beta$ and $x$, and a corresponding array in which we store the results for output for combinations of these values."
   ]
  },
  {
   "cell_type": "code",
   "execution_count": null,
   "metadata": {},
   "outputs": [],
   "source": [
    "beta_range = np.linspace(0,0.01,100)\n",
    "x_range = np.linspace(0,100,100)\n",
    "results = np.empty((len(beta_range), len(x_range)))\n",
    "\n",
    "for i, beta in enumerate(beta_range):\n",
    "    for j, x in enumerate(x_range):\n",
    "        result = seek_ab(W_e, r_e, delta, mu, x, beta)*r_e\n",
    "        output = np.sum(result)-x\n",
    "        results[i, j] = output\n",
    "        \n",
    "results"
   ]
  },
  {
   "cell_type": "markdown",
   "metadata": {},
   "source": [
    "And plot the arrays in a 3-dimensional plot"
   ]
  },
  {
   "cell_type": "code",
   "execution_count": null,
   "metadata": {},
   "outputs": [],
   "source": [
    "fig = plt.figure(figsize=(12, 6))\n",
    "\n",
    "# First subplot\n",
    "ax1 = fig.add_subplot(1, 2, 1, projection='3d')\n",
    "surf1 = ax1.plot_surface(beta_range, x_range, results, cmap='viridis')\n",
    "ax1.set_xlabel(r'$\\beta$')\n",
    "ax1.set_ylabel('x')\n",
    "ax1.set_zlabel('Output')\n",
    "ax1.view_init(15, 15)\n",
    "\n",
    "# Second subplot\n",
    "ax2 = fig.add_subplot(1, 2, 2, projection='3d')\n",
    "surf2 = ax2.plot_surface(beta_range, x_range, results, cmap='viridis')\n",
    "ax2.set_xlabel(r'$\\beta$')\n",
    "ax2.set_ylabel('x')\n",
    "ax2.set_zlabel('Output')\n",
    "ax2.view_init(15, 65)\n",
    "\n",
    "fig.colorbar(surf1, ax=[ax1, ax2], shrink=0.5)\n",
    "\n",
    "plt.show()"
   ]
  },
  {
   "cell_type": "markdown",
   "metadata": {},
   "source": [
    "As we can see from the plots, output is highest for abatement spending someweher in the region of $\\in{30,70}$. The plots show that, for an energy shock $\\delta=0.5$, and abatement efficiency $\\beta\\in{0,\\frac{1}{100}}$ it does not make sense to fully convert the economy to renewable energy, from a purely financial perspective."
   ]
  },
  {
   "cell_type": "markdown",
   "metadata": {},
   "source": [
    "Now, let's look at a plot for abatement spending $x\\in{0,500}$ and abatement efficiency $\\beta \\in {0,\\frac{1}{500}}$."
   ]
  },
  {
   "cell_type": "markdown",
   "metadata": {},
   "source": [
    "Doing the same thing as before, just with different ranges"
   ]
  },
  {
   "cell_type": "code",
   "execution_count": null,
   "metadata": {},
   "outputs": [],
   "source": [
    "beta_range = np.linspace(0,0.002,100)\n",
    "x_range = np.linspace(0,500,100)\n",
    "results = np.empty((len(beta_range), len(x_range)))\n",
    "\n",
    "for i, beta in enumerate(beta_range):\n",
    "    for j, x in enumerate(x_range):\n",
    "        result = seek_ab(W_e, r_e, delta, mu, x, beta)*r_e\n",
    "        output = np.sum(result)-x\n",
    "        results[i, j] = output\n",
    "        \n",
    "results"
   ]
  },
  {
   "cell_type": "code",
   "execution_count": null,
   "metadata": {},
   "outputs": [],
   "source": [
    "fig = plt.figure(figsize=(12, 6))\n",
    "\n",
    "# First subplot\n",
    "ax1 = fig.add_subplot(1, 2, 1, projection='3d')\n",
    "surf1 = ax1.plot_surface(beta_range, x_range, results, cmap='viridis')\n",
    "ax1.set_xlabel(r'$\\beta$')\n",
    "ax1.set_ylabel('x')\n",
    "ax1.set_zlabel('Output')\n",
    "ax1.view_init(15, 15)\n",
    "\n",
    "# Second subplot\n",
    "ax2 = fig.add_subplot(1, 2, 2, projection='3d')\n",
    "surf2 = ax2.plot_surface(beta_range, x_range, results, cmap='viridis')\n",
    "ax2.set_xlabel(r'$\\beta$')\n",
    "ax2.set_ylabel('x')\n",
    "ax2.set_zlabel('Output')\n",
    "ax2.view_init(25, 60)\n",
    "\n",
    "fig.colorbar(surf1, ax=[ax1, ax2], shrink=0.5)\n",
    "\n",
    "plt.show()"
   ]
  },
  {
   "cell_type": "markdown",
   "metadata": {},
   "source": [
    "As the plots show, it is very hard to justify abatement spending for abatement efficiency $\\beta \\in {0,\\frac{1}{500}}$, from a purely financial perspective: the highest output is for the lowest amount of spending $x$."
   ]
  },
  {
   "cell_type": "markdown",
   "metadata": {},
   "source": [
    "Lastly, we will create a function $x(\\beta)$ that provides the values of abatement spnending $x$ that maximize output, depending on the value of abatement efficiency $\\beta$."
   ]
  },
  {
   "cell_type": "markdown",
   "metadata": {},
   "source": [
    "To do this, we again create an array for outputs generated with different combinations of $\\beta$ and $x$"
   ]
  },
  {
   "cell_type": "code",
   "execution_count": null,
   "metadata": {},
   "outputs": [],
   "source": [
    "beta_range = np.linspace(0,0.1,1000)\n",
    "x_range = np.linspace(0,1000,100)\n",
    "results = np.empty((len(beta_range), len(x_range)))\n",
    "\n",
    "for i, beta in enumerate(beta_range):\n",
    "    for j, x in enumerate(x_range):\n",
    "        result = seek_ab(W_e, r_e, delta, mu, x, beta)*r_e\n",
    "        output = np.sum(result)-x\n",
    "        results[i, j] = output\n",
    "        \n",
    "results"
   ]
  },
  {
   "cell_type": "markdown",
   "metadata": {},
   "source": [
    "Now, we create the $x(\\beta)$ function by first finding a $\\beta$ closest to the $\\beta$ provided and then by slicing the results array for that value of $\\beta$. Next, we find the maximum output value in that slice and match it with the corresponding $x$, and thus obtain the optimal, output-maximizing value of $x^*$, for the given value of $\\beta$."
   ]
  },
  {
   "cell_type": "code",
   "execution_count": null,
   "metadata": {},
   "outputs": [],
   "source": [
    "def x(beta):\n",
    "  beta_index = np.argmin(np.abs(beta_range - beta))  \n",
    "  results_slice = results[beta_index, :]  \n",
    "  max_index = np.argmax(results_slice)  \n",
    "  x_optimal = x_range[max_index]\n",
    "  return x_optimal"
   ]
  },
  {
   "cell_type": "markdown",
   "metadata": {},
   "source": [
    "Next, we create an array with optimal values of $x^*$ for a range of $\\beta$ values and plot the two arrays against each other to obtain a relationship between the optimal amount of abatement spending $x^*$ and abatement technology $\\beta$"
   ]
  },
  {
   "cell_type": "code",
   "execution_count": null,
   "metadata": {},
   "outputs": [],
   "source": [
    "# Create an empty array to store the optimal values of x\n",
    "x_optimal = np.empty(len(beta_range))\n",
    "\n",
    "# Loop over the values of beta\n",
    "for i, beta in enumerate(beta_range):\n",
    "  # Find the optimal value of x for the current value of beta\n",
    "  x_optimal[i] = x(beta)\n",
    "\n",
    "# Plot the results\n",
    "plt.plot(beta_range, x_optimal)\n",
    "plt.xlabel(r'Abatement efficiency$ \\beta$')\n",
    "plt.ylabel('Optimal abatement spending $x^*$')\n",
    "plt.show()"
   ]
  },
  {
   "cell_type": "markdown",
   "metadata": {},
   "source": [
    "Abatement spending becomes viable when abatement efficiency reaches around $\\beta=0.01$ or approximately $\\beta=\\frac{1}{100}$. After then, the optimal amount of abatement spending fluctuates between 40 and 70, never exceeding the latter value. The subsequent drop in optimal spending is most likely due to reaching the $\\beta x=1$ threshold, for lower and lower values of $x$, as a result of increasing $\\beta$.\n",
    "\n",
    "Lastly, let's look at the level of abatement $a=\\beta x$ with increasing $\\beta$ and optimal values of abatement spending $x$"
   ]
  },
  {
   "cell_type": "code",
   "execution_count": null,
   "metadata": {},
   "outputs": [],
   "source": [
    "a = beta_range * x_optimal\n",
    "a_constrained = np.where(a > 1, 1, a)\n",
    "\n",
    "plt.plot(beta_range, a_constrained)\n",
    "plt.xlabel(r'Abatement efficiency $\\beta$')\n",
    "plt.ylabel('Abatement $a$')\n",
    "plt.axvline(x=0.0245,color='red')\n",
    "plt.show()"
   ]
  },
  {
   "cell_type": "markdown",
   "metadata": {},
   "source": [
    "Full abatement becomes optimal for values of around $\\beta=0.0245$, or $\\frac{1}{41}$. Before then, abatement increases, with heavy fluctuations, beginning around the starting point described above."
   ]
  },
  {
   "cell_type": "markdown",
   "metadata": {},
   "source": [
    "# Discussion and conclusion (0.5 points)"
   ]
  },
  {
   "cell_type": "markdown",
   "metadata": {
    "deletable": false,
    "nbgrader": {
     "checksum": "52e1cf5783dd1971d265a8ea172e297a",
     "grade": true,
     "grade_id": "cell-4b5c9f698b295ad7",
     "locked": false,
     "points": 0.5,
     "schema_version": 1,
     "solution": true
    }
   },
   "source": [
    "We analyzed a model in which net worth partly determines whether an entrepreneur can pursue a project. Then, we introduced a net worth shock, based on energy shock severity and the entrepreneurs' share of non-renewable energy in the energy mix. Lastly, we introduced an abatement possibility for the social planner.\n",
    "\n",
    "We found that, in this model, there is only a fraction of entrepreneurs whose financing decision is impacted by their net worth. Nonetheless, their unrealized output does have a sizable impact on the economy. It was shown that entrepreneurs, and economies as a whole, can protect themselves from energy shocks by switching to renewable energy sources, which effectively reduce the impact of the shock.\n",
    "\n",
    "Abatement activities are not straightforward, however. Even in the event of a moderately strong energy shock, abatement spending depends heavily on the abatement technology, which has to pass a certain threshold for abatement spending to be justified. Full abatement, optimal from a purely financail perspective, is likely to be warranted only with very high levels of abatement efficiency. \n",
    "\n",
    "The results of this model are, however, limited by its many assumptions. It is conceivable, that energy crises impact entrepreneurs' project returns as well, which would have a big influence on the results. Morevoer, the faultlessness of entrepreneurs in prediciting their project returns, especially in circumstances of an energy crisis, should be modified for a better approximation of reality."
   ]
  },
  {
   "cell_type": "code",
   "execution_count": null,
   "metadata": {},
   "outputs": [],
   "source": []
  }
 ],
 "metadata": {
  "kernelspec": {
   "display_name": "Python 3 (ipykernel)",
   "language": "python",
   "name": "python3"
  },
  "language_info": {
   "codemirror_mode": {
    "name": "ipython",
    "version": 3
   },
   "file_extension": ".py",
   "mimetype": "text/x-python",
   "name": "python",
   "nbconvert_exporter": "python",
   "pygments_lexer": "ipython3",
   "version": "3.9.7"
  },
  "toc": {
   "base_numbering": 1,
   "nav_menu": {},
   "number_sections": true,
   "sideBar": true,
   "skip_h1_title": false,
   "title_cell": "Table of Contents",
   "title_sidebar": "Contents",
   "toc_cell": false,
   "toc_position": {},
   "toc_section_display": true,
   "toc_window_display": true
  }
 },
 "nbformat": 4,
 "nbformat_minor": 4
}
